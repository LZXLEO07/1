{
  "nbformat": 4,
  "nbformat_minor": 0,
  "metadata": {
    "colab": {
      "name": "Villages.ipynb",
      "provenance": [],
      "include_colab_link": true
    },
    "kernelspec": {
      "name": "python3",
      "display_name": "Python 3"
    },
    "language_info": {
      "name": "python"
    }
  },
  "cells": [
    {
      "cell_type": "markdown",
      "metadata": {
        "id": "view-in-github",
        "colab_type": "text"
      },
      "source": [
        "<a href=\"https://colab.research.google.com/github/LZXLEO07/1/blob/main/Villages.ipynb\" target=\"_parent\"><img src=\"https://colab.research.google.com/assets/colab-badge.svg\" alt=\"Open In Colab\"/></a>"
      ]
    },
    {
      "cell_type": "code",
      "execution_count": null,
      "metadata": {
        "id": "eXqPl2AwisJH"
      },
      "outputs": [],
      "source": [
        ""
      ]
    },
    {
      "cell_type": "markdown",
      "source": [
        "# Canadian Computing Competition: 2018 Stage 1, Senior #1\n",
        "In the country of Voronoi, there are  villages, located at distinct points on a straight road. Each of these villages will be represented by an integer position along this road.\n",
        "\n",
        "Each village defines its neighbourhood as all points along the road which are closer to it than to any other village. A point which is equally close to two distinct villages  and  is in the neighbourhood of  and also in the neighbourhood of .\n",
        "\n",
        "Each neighbourhood has a size which is the difference between the minimum (leftmost) point in its neighbourhood and the maximum (rightmost) point in its neighbourhood.\n",
        "\n",
        "The neighbourhoods of the leftmost and rightmost villages are defined to be of infinite size, while all other neighbourhoods are finite in size.\n",
        "\n",
        "Determine the smallest size of any of the neighbourhoods (with exactly 1 digit after the decimal point).\n",
        "\n",
        "# Input Specification\n",
        "The first line will contain the number  , the number of villages. On the next  lines there will be one integer per line, where the  line will contain the integer , the position of the  village . All villages are at distinct positions.\n",
        "\n",
        "# Output Specification\n",
        "Output the smallest neighbourhood size with exactly one digit after the decimal point.\n",
        "\n",
        "# Sample Input\n",
        "    5 \n",
        "    16\n",
        "    0\n",
        "    10\n",
        "    4\n",
        "    15\n",
        "\n",
        "# Sample Output\n",
        "3.0\n",
        "# Explanation for Sample Output\n",
        "The neighbourhoods around  and  are infinite. The neighbourhood around  is  units ( to the left, and  to the right). The neighbourhood around  is  units ( to the left and  to the right). The neighbourhood around  is  units ( to the left and  to the right)."
      ],
      "metadata": {
        "id": "QbNA2jvpjEvm"
      }
    },
    {
      "cell_type": "code",
      "source": [
        "type([])"
      ],
      "metadata": {
        "colab": {
          "base_uri": "https://localhost:8080/"
        },
        "id": "kwEGuDAWme6j",
        "outputId": "32322c95-05f1-406f-d1c3-5663be777c15"
      },
      "execution_count": null,
      "outputs": [
        {
          "output_type": "execute_result",
          "data": {
            "text/plain": [
              "list"
            ]
          },
          "metadata": {},
          "execution_count": 1
        }
      ]
    },
    {
      "cell_type": "code",
      "source": [
        "help([])"
      ],
      "metadata": {
        "colab": {
          "base_uri": "https://localhost:8080/"
        },
        "id": "D99Y2ciqnZi5",
        "outputId": "aebdda49-66db-4e27-c35e-964041e5fa29"
      },
      "execution_count": null,
      "outputs": [
        {
          "output_type": "stream",
          "name": "stdout",
          "text": [
            "Help on list object:\n",
            "\n",
            "class list(object)\n",
            " |  list(iterable=(), /)\n",
            " |  \n",
            " |  Built-in mutable sequence.\n",
            " |  \n",
            " |  If no argument is given, the constructor creates a new empty list.\n",
            " |  The argument must be an iterable if specified.\n",
            " |  \n",
            " |  Methods defined here:\n",
            " |  \n",
            " |  __add__(self, value, /)\n",
            " |      Return self+value.\n",
            " |  \n",
            " |  __contains__(self, key, /)\n",
            " |      Return key in self.\n",
            " |  \n",
            " |  __delitem__(self, key, /)\n",
            " |      Delete self[key].\n",
            " |  \n",
            " |  __eq__(self, value, /)\n",
            " |      Return self==value.\n",
            " |  \n",
            " |  __ge__(self, value, /)\n",
            " |      Return self>=value.\n",
            " |  \n",
            " |  __getattribute__(self, name, /)\n",
            " |      Return getattr(self, name).\n",
            " |  \n",
            " |  __getitem__(...)\n",
            " |      x.__getitem__(y) <==> x[y]\n",
            " |  \n",
            " |  __gt__(self, value, /)\n",
            " |      Return self>value.\n",
            " |  \n",
            " |  __iadd__(self, value, /)\n",
            " |      Implement self+=value.\n",
            " |  \n",
            " |  __imul__(self, value, /)\n",
            " |      Implement self*=value.\n",
            " |  \n",
            " |  __init__(self, /, *args, **kwargs)\n",
            " |      Initialize self.  See help(type(self)) for accurate signature.\n",
            " |  \n",
            " |  __iter__(self, /)\n",
            " |      Implement iter(self).\n",
            " |  \n",
            " |  __le__(self, value, /)\n",
            " |      Return self<=value.\n",
            " |  \n",
            " |  __len__(self, /)\n",
            " |      Return len(self).\n",
            " |  \n",
            " |  __lt__(self, value, /)\n",
            " |      Return self<value.\n",
            " |  \n",
            " |  __mul__(self, value, /)\n",
            " |      Return self*value.\n",
            " |  \n",
            " |  __ne__(self, value, /)\n",
            " |      Return self!=value.\n",
            " |  \n",
            " |  __repr__(self, /)\n",
            " |      Return repr(self).\n",
            " |  \n",
            " |  __reversed__(self, /)\n",
            " |      Return a reverse iterator over the list.\n",
            " |  \n",
            " |  __rmul__(self, value, /)\n",
            " |      Return value*self.\n",
            " |  \n",
            " |  __setitem__(self, key, value, /)\n",
            " |      Set self[key] to value.\n",
            " |  \n",
            " |  __sizeof__(self, /)\n",
            " |      Return the size of the list in memory, in bytes.\n",
            " |  \n",
            " |  append(self, object, /)\n",
            " |      Append object to the end of the list.\n",
            " |  \n",
            " |  clear(self, /)\n",
            " |      Remove all items from list.\n",
            " |  \n",
            " |  copy(self, /)\n",
            " |      Return a shallow copy of the list.\n",
            " |  \n",
            " |  count(self, value, /)\n",
            " |      Return number of occurrences of value.\n",
            " |  \n",
            " |  extend(self, iterable, /)\n",
            " |      Extend list by appending elements from the iterable.\n",
            " |  \n",
            " |  index(self, value, start=0, stop=9223372036854775807, /)\n",
            " |      Return first index of value.\n",
            " |      \n",
            " |      Raises ValueError if the value is not present.\n",
            " |  \n",
            " |  insert(self, index, object, /)\n",
            " |      Insert object before index.\n",
            " |  \n",
            " |  pop(self, index=-1, /)\n",
            " |      Remove and return item at index (default last).\n",
            " |      \n",
            " |      Raises IndexError if list is empty or index is out of range.\n",
            " |  \n",
            " |  remove(self, value, /)\n",
            " |      Remove first occurrence of value.\n",
            " |      \n",
            " |      Raises ValueError if the value is not present.\n",
            " |  \n",
            " |  reverse(self, /)\n",
            " |      Reverse *IN PLACE*.\n",
            " |  \n",
            " |  sort(self, /, *, key=None, reverse=False)\n",
            " |      Stable sort *IN PLACE*.\n",
            " |  \n",
            " |  ----------------------------------------------------------------------\n",
            " |  Static methods defined here:\n",
            " |  \n",
            " |  __new__(*args, **kwargs) from builtins.type\n",
            " |      Create and return a new object.  See help(type) for accurate signature.\n",
            " |  \n",
            " |  ----------------------------------------------------------------------\n",
            " |  Data and other attributes defined here:\n",
            " |  \n",
            " |  __hash__ = None\n",
            "\n"
          ]
        }
      ]
    },
    {
      "cell_type": "code",
      "source": [
        "dir([])"
      ],
      "metadata": {
        "colab": {
          "base_uri": "https://localhost:8080/"
        },
        "id": "Zaz33-CkneuY",
        "outputId": "c8e999cc-c5e2-4b21-efc2-582c7dd1eae4"
      },
      "execution_count": null,
      "outputs": [
        {
          "output_type": "execute_result",
          "data": {
            "text/plain": [
              "['__add__',\n",
              " '__class__',\n",
              " '__contains__',\n",
              " '__delattr__',\n",
              " '__delitem__',\n",
              " '__dir__',\n",
              " '__doc__',\n",
              " '__eq__',\n",
              " '__format__',\n",
              " '__ge__',\n",
              " '__getattribute__',\n",
              " '__getitem__',\n",
              " '__gt__',\n",
              " '__hash__',\n",
              " '__iadd__',\n",
              " '__imul__',\n",
              " '__init__',\n",
              " '__init_subclass__',\n",
              " '__iter__',\n",
              " '__le__',\n",
              " '__len__',\n",
              " '__lt__',\n",
              " '__mul__',\n",
              " '__ne__',\n",
              " '__new__',\n",
              " '__reduce__',\n",
              " '__reduce_ex__',\n",
              " '__repr__',\n",
              " '__reversed__',\n",
              " '__rmul__',\n",
              " '__setattr__',\n",
              " '__setitem__',\n",
              " '__sizeof__',\n",
              " '__str__',\n",
              " '__subclasshook__',\n",
              " 'append',\n",
              " 'clear',\n",
              " 'copy',\n",
              " 'count',\n",
              " 'extend',\n",
              " 'index',\n",
              " 'insert',\n",
              " 'pop',\n",
              " 'remove',\n",
              " 'reverse',\n",
              " 'sort']"
            ]
          },
          "metadata": {},
          "execution_count": 3
        }
      ]
    },
    {
      "cell_type": "code",
      "source": [
        " my_list = [1,2,3]\n",
        " \n",
        " my_list.append(99)\n",
        " print(my_list)\n",
        "\n",
        " another_list = [3,2,1]\n",
        " my_list.extend(another_list)\n",
        " print(my_list)\n",
        "\n",
        " my_list.insert(1,98)\n",
        " print(my_list)\n",
        "\n",
        " my_list.sort()\n",
        " print(my_list)\n",
        "\n",
        " my_list.sort(reverse=True)\n",
        " print(my_list)\n",
        "\n",
        " my_list.pop()\n",
        " print(my_list)\n",
        "\n",
        " my_list.pop(0)\n",
        " print(my_list)\n",
        "\n",
        " my_list.remove(98)\n",
        " print(my_list)\n",
        "\n",
        " my_list.remove(2)\n",
        " print(my_list)\n",
        "\n",
        " my_list.remove(2)\n",
        " print(my_list)\n"
      ],
      "metadata": {
        "colab": {
          "base_uri": "https://localhost:8080/"
        },
        "id": "HbF3Rbsmnh9s",
        "outputId": "fea9fb1e-346c-4e2f-8f2c-8660b21c2274"
      },
      "execution_count": null,
      "outputs": [
        {
          "output_type": "stream",
          "name": "stdout",
          "text": [
            "[1, 2, 3, 99]\n",
            "[1, 2, 3, 99, 3, 2, 1]\n",
            "[1, 98, 2, 3, 99, 3, 2, 1]\n",
            "[1, 1, 2, 2, 3, 3, 98, 99]\n",
            "[99, 98, 3, 3, 2, 2, 1, 1]\n",
            "[99, 98, 3, 3, 2, 2, 1]\n",
            "[98, 3, 3, 2, 2, 1]\n",
            "[3, 3, 2, 2, 1]\n",
            "[3, 3, 2, 1]\n",
            "[3, 3, 1]\n"
          ]
        }
      ]
    },
    {
      "cell_type": "code",
      "source": [
        "positions = [0,4,10,15,16] # Dummy test data, already sorted\n",
        "\n",
        "left = (positions[1] - positions[0])/ 2\n",
        "right = (positions[2] - positions[1])/ 2\n",
        "\n",
        "min_size = left + right\n",
        "print(min_size)"
      ],
      "metadata": {
        "colab": {
          "base_uri": "https://localhost:8080/"
        },
        "id": "xHVfnXqipa4h",
        "outputId": "795f3c3c-d53a-4438-9601-9fca2e9ce56e"
      },
      "execution_count": null,
      "outputs": [
        {
          "output_type": "stream",
          "name": "stdout",
          "text": [
            "5.0\n"
          ]
        }
      ]
    },
    {
      "cell_type": "code",
      "source": [
        "# get the number of villages\n",
        "n = int(input())\n",
        "\n",
        "print(n)\n",
        "\n",
        "# get ready to stor the positions\n",
        "positions = []\n",
        "\n",
        "print(positions)\n",
        "\n",
        "# get each village position\n",
        "for i in range(n):\n",
        "  positions.append(int(input()))\n",
        "\n",
        "positions.sort()\n",
        "print(positions)"
      ],
      "metadata": {
        "colab": {
          "base_uri": "https://localhost:8080/"
        },
        "id": "rot8OqTDqDBX",
        "outputId": "02033d4f-81eb-4929-a532-149683e0450f"
      },
      "execution_count": null,
      "outputs": [
        {
          "output_type": "stream",
          "name": "stdout",
          "text": [
            "5\n",
            "5\n",
            "[]\n",
            "16\n",
            "0\n",
            "10\n",
            "4\n",
            "15\n",
            "[0, 4, 10, 15, 16]\n"
          ]
        }
      ]
    },
    {
      "cell_type": "code",
      "source": [
        "print(range(n))"
      ],
      "metadata": {
        "colab": {
          "base_uri": "https://localhost:8080/"
        },
        "id": "4uWwNMylrkkk",
        "outputId": "47c85973-4076-4d75-a331-c2e2902646ca"
      },
      "execution_count": null,
      "outputs": [
        {
          "output_type": "stream",
          "name": "stdout",
          "text": [
            "range(0, 5)\n"
          ]
        }
      ]
    },
    {
      "cell_type": "code",
      "source": [
        "print(list(range(0,5)))"
      ],
      "metadata": {
        "colab": {
          "base_uri": "https://localhost:8080/"
        },
        "id": "sKXqkMrArsWH",
        "outputId": "7d23db9c-2ef8-4622-d6d3-ea199b8851e3"
      },
      "execution_count": null,
      "outputs": [
        {
          "output_type": "stream",
          "name": "stdout",
          "text": [
            "[0, 1, 2, 3, 4]\n"
          ]
        }
      ]
    },
    {
      "cell_type": "code",
      "source": [
        "print(list(range(1,5)))"
      ],
      "metadata": {
        "colab": {
          "base_uri": "https://localhost:8080/"
        },
        "id": "TUBH0PBrrxKS",
        "outputId": "678e9648-987a-421e-9a73-65570a2ea6ad"
      },
      "execution_count": null,
      "outputs": [
        {
          "output_type": "stream",
          "name": "stdout",
          "text": [
            "[1, 2, 3, 4]\n"
          ]
        }
      ]
    },
    {
      "cell_type": "code",
      "source": [
        "print(list(range(1,4)))"
      ],
      "metadata": {
        "colab": {
          "base_uri": "https://localhost:8080/"
        },
        "id": "Ndjo_hpXr0zJ",
        "outputId": "d9572383-f7bd-4f3e-98f0-23cfcdf898b8"
      },
      "execution_count": null,
      "outputs": [
        {
          "output_type": "stream",
          "name": "stdout",
          "text": [
            "[1, 2, 3]\n"
          ]
        }
      ]
    },
    {
      "cell_type": "code",
      "source": [
        "sizes = []\n",
        "for i in range(1,4):\n",
        "  left = (positions[i] - positions[i-1])/ 2\n",
        "  right = (positions[i+1] - positions[i])/ 2\n",
        "  the_size = left + right\n",
        "  sizes.append(the_size)\n",
        "\n",
        "min_size = min(sizes)\n",
        "print(min_size)"
      ],
      "metadata": {
        "id": "_ECQSxgHsE1S",
        "colab": {
          "base_uri": "https://localhost:8080/"
        },
        "outputId": "bd2d222c-b180-4e0d-ce87-c0e04b521050"
      },
      "execution_count": null,
      "outputs": [
        {
          "output_type": "stream",
          "name": "stdout",
          "text": [
            "3.0\n"
          ]
        }
      ]
    },
    {
      "cell_type": "code",
      "source": [
        "# get the number of villages\n",
        "n = int(input())\n",
        "\n",
        "\n",
        "# get ready to stor the positions\n",
        "positions = []\n",
        "\n",
        "\n",
        "# get each village position\n",
        "for i in range(n):\n",
        "  positions.append(int(input()))\n",
        "\n",
        "positions.sort()\n",
        "sizes = []\n",
        "for i in range(1,4):\n",
        "  left = (positions[i] - positions[i-1])/ 2\n",
        "  right = (positions[i+1] - positions[i])/ 2\n",
        "  the_size = left + right\n",
        "  sizes.append(the_size)\n",
        "\n",
        "min_size = min(sizes)\n",
        "print(min_size)"
      ],
      "metadata": {
        "colab": {
          "base_uri": "https://localhost:8080/"
        },
        "id": "jaOyDdZcvBD-",
        "outputId": "6029323f-957e-4db4-efab-1b3f89696ff1"
      },
      "execution_count": null,
      "outputs": [
        {
          "output_type": "stream",
          "name": "stdout",
          "text": [
            "5\n",
            "10\n",
            "0\n",
            "4\n",
            "15\n",
            "16\n",
            "3.0\n"
          ]
        }
      ]
    }
  ]
}