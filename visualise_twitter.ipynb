{
  "nbformat": 4,
  "nbformat_minor": 0,
  "metadata": {
    "colab": {
      "name": "visualise_twitter.ipynb",
      "provenance": [],
      "include_colab_link": true
    },
    "kernelspec": {
      "name": "python3",
      "display_name": "Python 3"
    },
    "language_info": {
      "name": "python"
    }
  },
  "cells": [
    {
      "cell_type": "markdown",
      "metadata": {
        "id": "view-in-github",
        "colab_type": "text"
      },
      "source": [
        "<a href=\"https://colab.research.google.com/github/LZXLEO07/1/blob/main/visualise_twitter.ipynb\" target=\"_parent\"><img src=\"https://colab.research.google.com/assets/colab-badge.svg\" alt=\"Open In Colab\"/></a>"
      ]
    },
    {
      "cell_type": "markdown",
      "source": [
        "# Twitter Tweet Analysis\n",
        "\n",
        "## Workflow\n",
        "1. Install Packages\n",
        "2. Get data\n",
        "3. Visually perform sentiment analysis\n",
        "  * plot number of positive, negative, neutral tweets each day\n",
        "  * plot the proportion of postive, negative, neutral tweets\n",
        "  * create a word cloud from the tweets\n",
        "\n",
        "## 1. Install packges"
      ],
      "metadata": {
        "id": "EWa2fB2i1Iyr"
      }
    },
    {
      "cell_type": "code",
      "execution_count": 1,
      "metadata": {
        "id": "j_e5_pMax8mJ",
        "colab": {
          "base_uri": "https://localhost:8080/"
        },
        "outputId": "7d80c852-b8c7-405f-8602-cb6a7d1e37a0"
      },
      "outputs": [
        {
          "output_type": "stream",
          "name": "stdout",
          "text": [
            "Required packages installed\n"
          ]
        }
      ],
      "source": [
        "from google.colab import output\n",
        "!pip install snscrape\n",
        "!curl -Ol https://raw.githubusercontent.com/michael-borck/isys2001-worksheets/main/tweets.py\n",
        "!curl -Ol https://raw.githubusercontent.com/michael-borck/isys2001-worksheets/main/stopwords.py\n",
        "!pip install TextBlob\n",
        "output.clear()\n",
        "print(\"Required packages installed\")"
      ]
    },
    {
      "cell_type": "markdown",
      "source": [
        "## 2. Get the Data"
      ],
      "metadata": {
        "id": "38nXBOpvznzx"
      }
    },
    {
      "cell_type": "code",
      "source": [
        "from tweets import tweets_to_df\n",
        "help(tweets_to_df)"
      ],
      "metadata": {
        "id": "8Ci1KJKLyOYb",
        "colab": {
          "base_uri": "https://localhost:8080/"
        },
        "outputId": "ffe42e89-80bd-4630-f936-0cb47102b539"
      },
      "execution_count": 2,
      "outputs": [
        {
          "output_type": "stream",
          "name": "stdout",
          "text": [
            "Help on function tweets_to_df in module tweets:\n",
            "\n",
            "tweets_to_df(what, since='2022-01-01', until='2022-01-31', max_tweets=500)\n",
            "    Performs a simple term based search of twitter tweets to get\n",
            "    the date and message of the tweet.\n",
            "    \n",
            "    Parameters\n",
            "    ----------\n",
            "    what: str\n",
            "      The search term\n",
            "    since: str, YYYY-MM-DD, optional\n",
            "      The date to start search from (default 2022-01-01)\n",
            "    until: str, YYYY-MM-DD, optional\n",
            "      The date to search to (default 2022-01-31)\n",
            "    max_tweets: int, optional\n",
            "      The maximum number of tweets to return (default 500)\n",
            "    \n",
            "    Returns\n",
            "    -------\n",
            "    Pandas Dataframe of date and the tweet message.  The message has\n",
            "    been *cleaned* to remove emojis and non english letters.\n",
            "\n"
          ]
        }
      ]
    },
    {
      "cell_type": "code",
      "source": [
        "# Run get_tweets() method.  Your choice of keyword\n",
        "search_term = input('Please input a search term: ')\n",
        "tweets_df = tweets_to_df(search_term,max_tweets=1000)"
      ],
      "metadata": {
        "id": "pyQoQEEczkVi",
        "colab": {
          "base_uri": "https://localhost:8080/"
        },
        "outputId": "d2a01876-7a70-4985-ab97-06b1d5293f5f"
      },
      "execution_count": 33,
      "outputs": [
        {
          "name": "stdout",
          "output_type": "stream",
          "text": [
            "Please input a search term: Curtin\n"
          ]
        }
      ]
    },
    {
      "cell_type": "code",
      "source": [
        "tweets_df.head()"
      ],
      "metadata": {
        "colab": {
          "base_uri": "https://localhost:8080/",
          "height": 206
        },
        "id": "k7DmyZrkEjtk",
        "outputId": "76a5a4f5-3167-45a4-db2d-ef700570f0b8"
      },
      "execution_count": 34,
      "outputs": [
        {
          "output_type": "execute_result",
          "data": {
            "text/plain": [
              "         Date                                         Clean Text\n",
              "0  2022-01-30   I dont think he would take it yet but Jim Curtin\n",
              "1  2022-01-30  If they were to fire Gregg my pick would be Cu...\n",
              "2  2022-01-30  Meanwell curtin You did tweet the work on the ...\n",
              "3  2022-01-30  mi What are you talking about McConnell s fear...\n",
              "4  2022-01-30  A recent BSRG survey of migrants from South As..."
            ],
            "text/html": [
              "\n",
              "  <div id=\"df-892b0543-20e1-4e8f-b12d-cbefbafc5691\">\n",
              "    <div class=\"colab-df-container\">\n",
              "      <div>\n",
              "<style scoped>\n",
              "    .dataframe tbody tr th:only-of-type {\n",
              "        vertical-align: middle;\n",
              "    }\n",
              "\n",
              "    .dataframe tbody tr th {\n",
              "        vertical-align: top;\n",
              "    }\n",
              "\n",
              "    .dataframe thead th {\n",
              "        text-align: right;\n",
              "    }\n",
              "</style>\n",
              "<table border=\"1\" class=\"dataframe\">\n",
              "  <thead>\n",
              "    <tr style=\"text-align: right;\">\n",
              "      <th></th>\n",
              "      <th>Date</th>\n",
              "      <th>Clean Text</th>\n",
              "    </tr>\n",
              "  </thead>\n",
              "  <tbody>\n",
              "    <tr>\n",
              "      <th>0</th>\n",
              "      <td>2022-01-30</td>\n",
              "      <td>I dont think he would take it yet but Jim Curtin</td>\n",
              "    </tr>\n",
              "    <tr>\n",
              "      <th>1</th>\n",
              "      <td>2022-01-30</td>\n",
              "      <td>If they were to fire Gregg my pick would be Cu...</td>\n",
              "    </tr>\n",
              "    <tr>\n",
              "      <th>2</th>\n",
              "      <td>2022-01-30</td>\n",
              "      <td>Meanwell curtin You did tweet the work on the ...</td>\n",
              "    </tr>\n",
              "    <tr>\n",
              "      <th>3</th>\n",
              "      <td>2022-01-30</td>\n",
              "      <td>mi What are you talking about McConnell s fear...</td>\n",
              "    </tr>\n",
              "    <tr>\n",
              "      <th>4</th>\n",
              "      <td>2022-01-30</td>\n",
              "      <td>A recent BSRG survey of migrants from South As...</td>\n",
              "    </tr>\n",
              "  </tbody>\n",
              "</table>\n",
              "</div>\n",
              "      <button class=\"colab-df-convert\" onclick=\"convertToInteractive('df-892b0543-20e1-4e8f-b12d-cbefbafc5691')\"\n",
              "              title=\"Convert this dataframe to an interactive table.\"\n",
              "              style=\"display:none;\">\n",
              "        \n",
              "  <svg xmlns=\"http://www.w3.org/2000/svg\" height=\"24px\"viewBox=\"0 0 24 24\"\n",
              "       width=\"24px\">\n",
              "    <path d=\"M0 0h24v24H0V0z\" fill=\"none\"/>\n",
              "    <path d=\"M18.56 5.44l.94 2.06.94-2.06 2.06-.94-2.06-.94-.94-2.06-.94 2.06-2.06.94zm-11 1L8.5 8.5l.94-2.06 2.06-.94-2.06-.94L8.5 2.5l-.94 2.06-2.06.94zm10 10l.94 2.06.94-2.06 2.06-.94-2.06-.94-.94-2.06-.94 2.06-2.06.94z\"/><path d=\"M17.41 7.96l-1.37-1.37c-.4-.4-.92-.59-1.43-.59-.52 0-1.04.2-1.43.59L10.3 9.45l-7.72 7.72c-.78.78-.78 2.05 0 2.83L4 21.41c.39.39.9.59 1.41.59.51 0 1.02-.2 1.41-.59l7.78-7.78 2.81-2.81c.8-.78.8-2.07 0-2.86zM5.41 20L4 18.59l7.72-7.72 1.47 1.35L5.41 20z\"/>\n",
              "  </svg>\n",
              "      </button>\n",
              "      \n",
              "  <style>\n",
              "    .colab-df-container {\n",
              "      display:flex;\n",
              "      flex-wrap:wrap;\n",
              "      gap: 12px;\n",
              "    }\n",
              "\n",
              "    .colab-df-convert {\n",
              "      background-color: #E8F0FE;\n",
              "      border: none;\n",
              "      border-radius: 50%;\n",
              "      cursor: pointer;\n",
              "      display: none;\n",
              "      fill: #1967D2;\n",
              "      height: 32px;\n",
              "      padding: 0 0 0 0;\n",
              "      width: 32px;\n",
              "    }\n",
              "\n",
              "    .colab-df-convert:hover {\n",
              "      background-color: #E2EBFA;\n",
              "      box-shadow: 0px 1px 2px rgba(60, 64, 67, 0.3), 0px 1px 3px 1px rgba(60, 64, 67, 0.15);\n",
              "      fill: #174EA6;\n",
              "    }\n",
              "\n",
              "    [theme=dark] .colab-df-convert {\n",
              "      background-color: #3B4455;\n",
              "      fill: #D2E3FC;\n",
              "    }\n",
              "\n",
              "    [theme=dark] .colab-df-convert:hover {\n",
              "      background-color: #434B5C;\n",
              "      box-shadow: 0px 1px 3px 1px rgba(0, 0, 0, 0.15);\n",
              "      filter: drop-shadow(0px 1px 2px rgba(0, 0, 0, 0.3));\n",
              "      fill: #FFFFFF;\n",
              "    }\n",
              "  </style>\n",
              "\n",
              "      <script>\n",
              "        const buttonEl =\n",
              "          document.querySelector('#df-892b0543-20e1-4e8f-b12d-cbefbafc5691 button.colab-df-convert');\n",
              "        buttonEl.style.display =\n",
              "          google.colab.kernel.accessAllowed ? 'block' : 'none';\n",
              "\n",
              "        async function convertToInteractive(key) {\n",
              "          const element = document.querySelector('#df-892b0543-20e1-4e8f-b12d-cbefbafc5691');\n",
              "          const dataTable =\n",
              "            await google.colab.kernel.invokeFunction('convertToInteractive',\n",
              "                                                     [key], {});\n",
              "          if (!dataTable) return;\n",
              "\n",
              "          const docLinkHtml = 'Like what you see? Visit the ' +\n",
              "            '<a target=\"_blank\" href=https://colab.research.google.com/notebooks/data_table.ipynb>data table notebook</a>'\n",
              "            + ' to learn more about interactive tables.';\n",
              "          element.innerHTML = '';\n",
              "          dataTable['output_type'] = 'display_data';\n",
              "          await google.colab.output.renderOutput(dataTable, element);\n",
              "          const docLink = document.createElement('div');\n",
              "          docLink.innerHTML = docLinkHtml;\n",
              "          element.appendChild(docLink);\n",
              "        }\n",
              "      </script>\n",
              "    </div>\n",
              "  </div>\n",
              "  "
            ]
          },
          "metadata": {},
          "execution_count": 34
        }
      ]
    },
    {
      "cell_type": "markdown",
      "source": [
        "## 3. Perform Sentiment Analysis\n",
        "The sentiment function of textblob returns two properties, polarity, and subjectivity.\n",
        "\n",
        "See: https://textblob.readthedocs.io/en/dev/index.html\n",
        "\n",
        "\n",
        "### Polarity\n",
        "Polarity is float which lies in the range of [-1,1] where 1 means positive statement and -1 means a negative statement. \n",
        "\n",
        "### Subjectivity\n",
        "Subjective sentences generally refer to personal opinion, emotion or judgment whereas objective refers to factual information. Subjectivity is also a float which lies in the range of [0,1]."
      ],
      "metadata": {
        "id": "ytj7LAbe1bXc"
      }
    },
    {
      "cell_type": "code",
      "source": [
        "from textblob import TextBlob\n",
        "\n",
        "# Wrapper so can use Pandas apply() function on a column\n",
        "def getSubjectivity(text):\n",
        "    return TextBlob(str(text)).sentiment.subjectivity\n",
        "\n",
        "def getPolarity(text):\n",
        "    return TextBlob(str(text)).sentiment.polarity\n",
        "\n",
        "# Calculate sentiment, \n",
        "tweets_df['Subjectivity'] = tweets_df['Clean Text'].apply(getSubjectivity)\n",
        "tweets_df['Polarity'] = tweets_df['Clean Text'].apply(getPolarity)\n",
        "\n",
        "tweets_df.head()"
      ],
      "metadata": {
        "id": "BPHPewQs0LWY",
        "colab": {
          "base_uri": "https://localhost:8080/",
          "height": 206
        },
        "outputId": "c394eb9b-2633-4464-b263-a79a287f9709"
      },
      "execution_count": 35,
      "outputs": [
        {
          "output_type": "execute_result",
          "data": {
            "text/plain": [
              "         Date                                         Clean Text  \\\n",
              "0  2022-01-30   I dont think he would take it yet but Jim Curtin   \n",
              "1  2022-01-30  If they were to fire Gregg my pick would be Cu...   \n",
              "2  2022-01-30  Meanwell curtin You did tweet the work on the ...   \n",
              "3  2022-01-30  mi What are you talking about McConnell s fear...   \n",
              "4  2022-01-30  A recent BSRG survey of migrants from South As...   \n",
              "\n",
              "   Subjectivity  Polarity  \n",
              "0      0.000000  0.000000  \n",
              "1      0.443750  0.287500  \n",
              "2      0.000000  0.000000  \n",
              "3      0.900000 -0.600000  \n",
              "4      0.320833  0.004167  "
            ],
            "text/html": [
              "\n",
              "  <div id=\"df-7646119c-a2af-4986-999d-e0d9706524a6\">\n",
              "    <div class=\"colab-df-container\">\n",
              "      <div>\n",
              "<style scoped>\n",
              "    .dataframe tbody tr th:only-of-type {\n",
              "        vertical-align: middle;\n",
              "    }\n",
              "\n",
              "    .dataframe tbody tr th {\n",
              "        vertical-align: top;\n",
              "    }\n",
              "\n",
              "    .dataframe thead th {\n",
              "        text-align: right;\n",
              "    }\n",
              "</style>\n",
              "<table border=\"1\" class=\"dataframe\">\n",
              "  <thead>\n",
              "    <tr style=\"text-align: right;\">\n",
              "      <th></th>\n",
              "      <th>Date</th>\n",
              "      <th>Clean Text</th>\n",
              "      <th>Subjectivity</th>\n",
              "      <th>Polarity</th>\n",
              "    </tr>\n",
              "  </thead>\n",
              "  <tbody>\n",
              "    <tr>\n",
              "      <th>0</th>\n",
              "      <td>2022-01-30</td>\n",
              "      <td>I dont think he would take it yet but Jim Curtin</td>\n",
              "      <td>0.000000</td>\n",
              "      <td>0.000000</td>\n",
              "    </tr>\n",
              "    <tr>\n",
              "      <th>1</th>\n",
              "      <td>2022-01-30</td>\n",
              "      <td>If they were to fire Gregg my pick would be Cu...</td>\n",
              "      <td>0.443750</td>\n",
              "      <td>0.287500</td>\n",
              "    </tr>\n",
              "    <tr>\n",
              "      <th>2</th>\n",
              "      <td>2022-01-30</td>\n",
              "      <td>Meanwell curtin You did tweet the work on the ...</td>\n",
              "      <td>0.000000</td>\n",
              "      <td>0.000000</td>\n",
              "    </tr>\n",
              "    <tr>\n",
              "      <th>3</th>\n",
              "      <td>2022-01-30</td>\n",
              "      <td>mi What are you talking about McConnell s fear...</td>\n",
              "      <td>0.900000</td>\n",
              "      <td>-0.600000</td>\n",
              "    </tr>\n",
              "    <tr>\n",
              "      <th>4</th>\n",
              "      <td>2022-01-30</td>\n",
              "      <td>A recent BSRG survey of migrants from South As...</td>\n",
              "      <td>0.320833</td>\n",
              "      <td>0.004167</td>\n",
              "    </tr>\n",
              "  </tbody>\n",
              "</table>\n",
              "</div>\n",
              "      <button class=\"colab-df-convert\" onclick=\"convertToInteractive('df-7646119c-a2af-4986-999d-e0d9706524a6')\"\n",
              "              title=\"Convert this dataframe to an interactive table.\"\n",
              "              style=\"display:none;\">\n",
              "        \n",
              "  <svg xmlns=\"http://www.w3.org/2000/svg\" height=\"24px\"viewBox=\"0 0 24 24\"\n",
              "       width=\"24px\">\n",
              "    <path d=\"M0 0h24v24H0V0z\" fill=\"none\"/>\n",
              "    <path d=\"M18.56 5.44l.94 2.06.94-2.06 2.06-.94-2.06-.94-.94-2.06-.94 2.06-2.06.94zm-11 1L8.5 8.5l.94-2.06 2.06-.94-2.06-.94L8.5 2.5l-.94 2.06-2.06.94zm10 10l.94 2.06.94-2.06 2.06-.94-2.06-.94-.94-2.06-.94 2.06-2.06.94z\"/><path d=\"M17.41 7.96l-1.37-1.37c-.4-.4-.92-.59-1.43-.59-.52 0-1.04.2-1.43.59L10.3 9.45l-7.72 7.72c-.78.78-.78 2.05 0 2.83L4 21.41c.39.39.9.59 1.41.59.51 0 1.02-.2 1.41-.59l7.78-7.78 2.81-2.81c.8-.78.8-2.07 0-2.86zM5.41 20L4 18.59l7.72-7.72 1.47 1.35L5.41 20z\"/>\n",
              "  </svg>\n",
              "      </button>\n",
              "      \n",
              "  <style>\n",
              "    .colab-df-container {\n",
              "      display:flex;\n",
              "      flex-wrap:wrap;\n",
              "      gap: 12px;\n",
              "    }\n",
              "\n",
              "    .colab-df-convert {\n",
              "      background-color: #E8F0FE;\n",
              "      border: none;\n",
              "      border-radius: 50%;\n",
              "      cursor: pointer;\n",
              "      display: none;\n",
              "      fill: #1967D2;\n",
              "      height: 32px;\n",
              "      padding: 0 0 0 0;\n",
              "      width: 32px;\n",
              "    }\n",
              "\n",
              "    .colab-df-convert:hover {\n",
              "      background-color: #E2EBFA;\n",
              "      box-shadow: 0px 1px 2px rgba(60, 64, 67, 0.3), 0px 1px 3px 1px rgba(60, 64, 67, 0.15);\n",
              "      fill: #174EA6;\n",
              "    }\n",
              "\n",
              "    [theme=dark] .colab-df-convert {\n",
              "      background-color: #3B4455;\n",
              "      fill: #D2E3FC;\n",
              "    }\n",
              "\n",
              "    [theme=dark] .colab-df-convert:hover {\n",
              "      background-color: #434B5C;\n",
              "      box-shadow: 0px 1px 3px 1px rgba(0, 0, 0, 0.15);\n",
              "      filter: drop-shadow(0px 1px 2px rgba(0, 0, 0, 0.3));\n",
              "      fill: #FFFFFF;\n",
              "    }\n",
              "  </style>\n",
              "\n",
              "      <script>\n",
              "        const buttonEl =\n",
              "          document.querySelector('#df-7646119c-a2af-4986-999d-e0d9706524a6 button.colab-df-convert');\n",
              "        buttonEl.style.display =\n",
              "          google.colab.kernel.accessAllowed ? 'block' : 'none';\n",
              "\n",
              "        async function convertToInteractive(key) {\n",
              "          const element = document.querySelector('#df-7646119c-a2af-4986-999d-e0d9706524a6');\n",
              "          const dataTable =\n",
              "            await google.colab.kernel.invokeFunction('convertToInteractive',\n",
              "                                                     [key], {});\n",
              "          if (!dataTable) return;\n",
              "\n",
              "          const docLinkHtml = 'Like what you see? Visit the ' +\n",
              "            '<a target=\"_blank\" href=https://colab.research.google.com/notebooks/data_table.ipynb>data table notebook</a>'\n",
              "            + ' to learn more about interactive tables.';\n",
              "          element.innerHTML = '';\n",
              "          dataTable['output_type'] = 'display_data';\n",
              "          await google.colab.output.renderOutput(dataTable, element);\n",
              "          const docLink = document.createElement('div');\n",
              "          docLink.innerHTML = docLinkHtml;\n",
              "          element.appendChild(docLink);\n",
              "        }\n",
              "      </script>\n",
              "    </div>\n",
              "  </div>\n",
              "  "
            ]
          },
          "metadata": {},
          "execution_count": 35
        }
      ]
    },
    {
      "cell_type": "code",
      "source": [
        "\n",
        "# Do a box plot of columns Subjectivity and Polarity\n",
        "tweets_df.boxplot(column=['Subjectivity','Polarity',],grid=False,figsize=(12,8))"
      ],
      "metadata": {
        "id": "xL95PK6A0mCe",
        "colab": {
          "base_uri": "https://localhost:8080/",
          "height": 500
        },
        "outputId": "d973d78c-107c-44b0-c924-4aa574f38029"
      },
      "execution_count": 36,
      "outputs": [
        {
          "output_type": "execute_result",
          "data": {
            "text/plain": [
              "<matplotlib.axes._subplots.AxesSubplot at 0x7fbdf7499ed0>"
            ]
          },
          "metadata": {},
          "execution_count": 36
        },
        {
          "output_type": "display_data",
          "data": {
            "text/plain": [
              "<Figure size 864x576 with 1 Axes>"
            ],
            "image/png": "[encoded data removed]"
          },
          "metadata": {
            "needs_background": "light"
          }
        }
      ]
    },
    {
      "cell_type": "markdown",
      "source": [
        "# Sentiment over time.\n",
        "\n",
        "From the documentaiton, the values of polsrity can be interpreted a sentiment.  So we can *calculate* the sentiment of each tweet as either positive, negative or neutral.\n",
        "\n",
        "> There are more precise ways, keeping it simple for thie exercise.\n",
        "\n",
        "It could be interesting to plot these over time.  SO each day there is a number of tweets, what proportions are positive, negative or neutral.\n",
        "\n",
        "First let us add a sentiment column\n"
      ],
      "metadata": {
        "id": "oEbWCyrZ5ly9"
      }
    },
    {
      "cell_type": "code",
      "source": [
        "def sentiment(polarity):\n",
        "  if polarity > 0:\n",
        "      return 'positive'\n",
        "  elif polarity == 0:\n",
        "      return 'neutral'\n",
        "  else:\n",
        "      return 'negative'"
      ],
      "metadata": {
        "id": "ENP5Hyrt4YYq"
      },
      "execution_count": 37,
      "outputs": []
    },
    {
      "cell_type": "code",
      "source": [
        "# Add sentiment column\n",
        "tweets_df['Sentiment'] = tweets_df['Polarity'].apply(sentiment)\n",
        "tweets_df.head()"
      ],
      "metadata": {
        "id": "rmv5RBkp467P",
        "colab": {
          "base_uri": "https://localhost:8080/",
          "height": 206
        },
        "outputId": "b3ab50f4-fc59-46b4-8076-fb2f3e58f2af"
      },
      "execution_count": 38,
      "outputs": [
        {
          "output_type": "execute_result",
          "data": {
            "text/plain": [
              "         Date                                         Clean Text  \\\n",
              "0  2022-01-30   I dont think he would take it yet but Jim Curtin   \n",
              "1  2022-01-30  If they were to fire Gregg my pick would be Cu...   \n",
              "2  2022-01-30  Meanwell curtin You did tweet the work on the ...   \n",
              "3  2022-01-30  mi What are you talking about McConnell s fear...   \n",
              "4  2022-01-30  A recent BSRG survey of migrants from South As...   \n",
              "\n",
              "   Subjectivity  Polarity Sentiment  \n",
              "0      0.000000  0.000000   neutral  \n",
              "1      0.443750  0.287500  positive  \n",
              "2      0.000000  0.000000   neutral  \n",
              "3      0.900000 -0.600000  negative  \n",
              "4      0.320833  0.004167  positive  "
            ],
            "text/html": [
              "\n",
              "  <div id=\"df-3dcba42c-14f5-4e90-a20a-dd761c9b8fc1\">\n",
              "    <div class=\"colab-df-container\">\n",
              "      <div>\n",
              "<style scoped>\n",
              "    .dataframe tbody tr th:only-of-type {\n",
              "        vertical-align: middle;\n",
              "    }\n",
              "\n",
              "    .dataframe tbody tr th {\n",
              "        vertical-align: top;\n",
              "    }\n",
              "\n",
              "    .dataframe thead th {\n",
              "        text-align: right;\n",
              "    }\n",
              "</style>\n",
              "<table border=\"1\" class=\"dataframe\">\n",
              "  <thead>\n",
              "    <tr style=\"text-align: right;\">\n",
              "      <th></th>\n",
              "      <th>Date</th>\n",
              "      <th>Clean Text</th>\n",
              "      <th>Subjectivity</th>\n",
              "      <th>Polarity</th>\n",
              "      <th>Sentiment</th>\n",
              "    </tr>\n",
              "  </thead>\n",
              "  <tbody>\n",
              "    <tr>\n",
              "      <th>0</th>\n",
              "      <td>2022-01-30</td>\n",
              "      <td>I dont think he would take it yet but Jim Curtin</td>\n",
              "      <td>0.000000</td>\n",
              "      <td>0.000000</td>\n",
              "      <td>neutral</td>\n",
              "    </tr>\n",
              "    <tr>\n",
              "      <th>1</th>\n",
              "      <td>2022-01-30</td>\n",
              "      <td>If they were to fire Gregg my pick would be Cu...</td>\n",
              "      <td>0.443750</td>\n",
              "      <td>0.287500</td>\n",
              "      <td>positive</td>\n",
              "    </tr>\n",
              "    <tr>\n",
              "      <th>2</th>\n",
              "      <td>2022-01-30</td>\n",
              "      <td>Meanwell curtin You did tweet the work on the ...</td>\n",
              "      <td>0.000000</td>\n",
              "      <td>0.000000</td>\n",
              "      <td>neutral</td>\n",
              "    </tr>\n",
              "    <tr>\n",
              "      <th>3</th>\n",
              "      <td>2022-01-30</td>\n",
              "      <td>mi What are you talking about McConnell s fear...</td>\n",
              "      <td>0.900000</td>\n",
              "      <td>-0.600000</td>\n",
              "      <td>negative</td>\n",
              "    </tr>\n",
              "    <tr>\n",
              "      <th>4</th>\n",
              "      <td>2022-01-30</td>\n",
              "      <td>A recent BSRG survey of migrants from South As...</td>\n",
              "      <td>0.320833</td>\n",
              "      <td>0.004167</td>\n",
              "      <td>positive</td>\n",
              "    </tr>\n",
              "  </tbody>\n",
              "</table>\n",
              "</div>\n",
              "      <button class=\"colab-df-convert\" onclick=\"convertToInteractive('df-3dcba42c-14f5-4e90-a20a-dd761c9b8fc1')\"\n",
              "              title=\"Convert this dataframe to an interactive table.\"\n",
              "              style=\"display:none;\">\n",
              "        \n",
              "  <svg xmlns=\"http://www.w3.org/2000/svg\" height=\"24px\"viewBox=\"0 0 24 24\"\n",
              "       width=\"24px\">\n",
              "    <path d=\"M0 0h24v24H0V0z\" fill=\"none\"/>\n",
              "    <path d=\"M18.56 5.44l.94 2.06.94-2.06 2.06-.94-2.06-.94-.94-2.06-.94 2.06-2.06.94zm-11 1L8.5 8.5l.94-2.06 2.06-.94-2.06-.94L8.5 2.5l-.94 2.06-2.06.94zm10 10l.94 2.06.94-2.06 2.06-.94-2.06-.94-.94-2.06-.94 2.06-2.06.94z\"/><path d=\"M17.41 7.96l-1.37-1.37c-.4-.4-.92-.59-1.43-.59-.52 0-1.04.2-1.43.59L10.3 9.45l-7.72 7.72c-.78.78-.78 2.05 0 2.83L4 21.41c.39.39.9.59 1.41.59.51 0 1.02-.2 1.41-.59l7.78-7.78 2.81-2.81c.8-.78.8-2.07 0-2.86zM5.41 20L4 18.59l7.72-7.72 1.47 1.35L5.41 20z\"/>\n",
              "  </svg>\n",
              "      </button>\n",
              "      \n",
              "  <style>\n",
              "    .colab-df-container {\n",
              "      display:flex;\n",
              "      flex-wrap:wrap;\n",
              "      gap: 12px;\n",
              "    }\n",
              "\n",
              "    .colab-df-convert {\n",
              "      background-color: #E8F0FE;\n",
              "      border: none;\n",
              "      border-radius: 50%;\n",
              "      cursor: pointer;\n",
              "      display: none;\n",
              "      fill: #1967D2;\n",
              "      height: 32px;\n",
              "      padding: 0 0 0 0;\n",
              "      width: 32px;\n",
              "    }\n",
              "\n",
              "    .colab-df-convert:hover {\n",
              "      background-color: #E2EBFA;\n",
              "      box-shadow: 0px 1px 2px rgba(60, 64, 67, 0.3), 0px 1px 3px 1px rgba(60, 64, 67, 0.15);\n",
              "      fill: #174EA6;\n",
              "    }\n",
              "\n",
              "    [theme=dark] .colab-df-convert {\n",
              "      background-color: #3B4455;\n",
              "      fill: #D2E3FC;\n",
              "    }\n",
              "\n",
              "    [theme=dark] .colab-df-convert:hover {\n",
              "      background-color: #434B5C;\n",
              "      box-shadow: 0px 1px 3px 1px rgba(0, 0, 0, 0.15);\n",
              "      filter: drop-shadow(0px 1px 2px rgba(0, 0, 0, 0.3));\n",
              "      fill: #FFFFFF;\n",
              "    }\n",
              "  </style>\n",
              "\n",
              "      <script>\n",
              "        const buttonEl =\n",
              "          document.querySelector('#df-3dcba42c-14f5-4e90-a20a-dd761c9b8fc1 button.colab-df-convert');\n",
              "        buttonEl.style.display =\n",
              "          google.colab.kernel.accessAllowed ? 'block' : 'none';\n",
              "\n",
              "        async function convertToInteractive(key) {\n",
              "          const element = document.querySelector('#df-3dcba42c-14f5-4e90-a20a-dd761c9b8fc1');\n",
              "          const dataTable =\n",
              "            await google.colab.kernel.invokeFunction('convertToInteractive',\n",
              "                                                     [key], {});\n",
              "          if (!dataTable) return;\n",
              "\n",
              "          const docLinkHtml = 'Like what you see? Visit the ' +\n",
              "            '<a target=\"_blank\" href=https://colab.research.google.com/notebooks/data_table.ipynb>data table notebook</a>'\n",
              "            + ' to learn more about interactive tables.';\n",
              "          element.innerHTML = '';\n",
              "          dataTable['output_type'] = 'display_data';\n",
              "          await google.colab.output.renderOutput(dataTable, element);\n",
              "          const docLink = document.createElement('div');\n",
              "          docLink.innerHTML = docLinkHtml;\n",
              "          element.appendChild(docLink);\n",
              "        }\n",
              "      </script>\n",
              "    </div>\n",
              "  </div>\n",
              "  "
            ]
          },
          "metadata": {},
          "execution_count": 38
        }
      ]
    },
    {
      "cell_type": "code",
      "source": [
        "# Lets get just the positive tweets\n",
        "pos = tweets_df[ tweets_df['Sentiment'] == \"positive\"]\n",
        "pos"
      ],
      "metadata": {
        "id": "SK62Dy3L6u3G",
        "colab": {
          "base_uri": "https://localhost:8080/",
          "height": 424
        },
        "outputId": "61ee1055-5e5c-4f39-e632-384a95d9235b"
      },
      "execution_count": 39,
      "outputs": [
        {
          "output_type": "execute_result",
          "data": {
            "text/plain": [
              "           Date                                         Clean Text  \\\n",
              "1    2022-01-30  If they were to fire Gregg my pick would be Cu...   \n",
              "4    2022-01-30  A recent BSRG survey of migrants from South As...   \n",
              "6    2022-01-30  curtin tbf I rarely tweet at all so I don t th...   \n",
              "7    2022-01-30  Excellent article Wouldn t it be a wonderful a...   \n",
              "9    2022-01-30                       Live look at Jackson Mahomes   \n",
              "..          ...                                                ...   \n",
              "991  2022-01-25  Today s quote So you d go to a table read and ...   \n",
              "992  2022-01-25  Told The book on Albanese s table The author w...   \n",
              "993  2022-01-25  Kindergartener was looking at my lanyard w MJ ...   \n",
              "994  2022-01-25  shoutout to curtin for teaching AP psych how t...   \n",
              "997  2022-01-25  Curtin It s also important to remember anyone ...   \n",
              "\n",
              "     Subjectivity  Polarity Sentiment  \n",
              "1        0.443750  0.287500  positive  \n",
              "4        0.320833  0.004167  positive  \n",
              "6        0.450000  0.150000  positive  \n",
              "7        0.637037  0.261111  positive  \n",
              "9        0.500000  0.136364  positive  \n",
              "..            ...       ...       ...  \n",
              "991      0.550000  0.350000  positive  \n",
              "992      0.491667  0.179167  positive  \n",
              "993      0.700000  0.800000  positive  \n",
              "994      0.672222  0.450000  positive  \n",
              "997      0.866667  0.416667  positive  \n",
              "\n",
              "[447 rows x 5 columns]"
            ],
            "text/html": [
              "\n",
              "  <div id=\"df-0f4418c7-faa6-4200-8613-768344aa3e2a\">\n",
              "    <div class=\"colab-df-container\">\n",
              "      <div>\n",
              "<style scoped>\n",
              "    .dataframe tbody tr th:only-of-type {\n",
              "        vertical-align: middle;\n",
              "    }\n",
              "\n",
              "    .dataframe tbody tr th {\n",
              "        vertical-align: top;\n",
              "    }\n",
              "\n",
              "    .dataframe thead th {\n",
              "        text-align: right;\n",
              "    }\n",
              "</style>\n",
              "<table border=\"1\" class=\"dataframe\">\n",
              "  <thead>\n",
              "    <tr style=\"text-align: right;\">\n",
              "      <th></th>\n",
              "      <th>Date</th>\n",
              "      <th>Clean Text</th>\n",
              "      <th>Subjectivity</th>\n",
              "      <th>Polarity</th>\n",
              "      <th>Sentiment</th>\n",
              "    </tr>\n",
              "  </thead>\n",
              "  <tbody>\n",
              "    <tr>\n",
              "      <th>1</th>\n",
              "      <td>2022-01-30</td>\n",
              "      <td>If they were to fire Gregg my pick would be Cu...</td>\n",
              "      <td>0.443750</td>\n",
              "      <td>0.287500</td>\n",
              "      <td>positive</td>\n",
              "    </tr>\n",
              "    <tr>\n",
              "      <th>4</th>\n",
              "      <td>2022-01-30</td>\n",
              "      <td>A recent BSRG survey of migrants from South As...</td>\n",
              "      <td>0.320833</td>\n",
              "      <td>0.004167</td>\n",
              "      <td>positive</td>\n",
              "    </tr>\n",
              "    <tr>\n",
              "      <th>6</th>\n",
              "      <td>2022-01-30</td>\n",
              "      <td>curtin tbf I rarely tweet at all so I don t th...</td>\n",
              "      <td>0.450000</td>\n",
              "      <td>0.150000</td>\n",
              "      <td>positive</td>\n",
              "    </tr>\n",
              "    <tr>\n",
              "      <th>7</th>\n",
              "      <td>2022-01-30</td>\n",
              "      <td>Excellent article Wouldn t it be a wonderful a...</td>\n",
              "      <td>0.637037</td>\n",
              "      <td>0.261111</td>\n",
              "      <td>positive</td>\n",
              "    </tr>\n",
              "    <tr>\n",
              "      <th>9</th>\n",
              "      <td>2022-01-30</td>\n",
              "      <td>Live look at Jackson Mahomes</td>\n",
              "      <td>0.500000</td>\n",
              "      <td>0.136364</td>\n",
              "      <td>positive</td>\n",
              "    </tr>\n",
              "    <tr>\n",
              "      <th>...</th>\n",
              "      <td>...</td>\n",
              "      <td>...</td>\n",
              "      <td>...</td>\n",
              "      <td>...</td>\n",
              "      <td>...</td>\n",
              "    </tr>\n",
              "    <tr>\n",
              "      <th>991</th>\n",
              "      <td>2022-01-25</td>\n",
              "      <td>Today s quote So you d go to a table read and ...</td>\n",
              "      <td>0.550000</td>\n",
              "      <td>0.350000</td>\n",
              "      <td>positive</td>\n",
              "    </tr>\n",
              "    <tr>\n",
              "      <th>992</th>\n",
              "      <td>2022-01-25</td>\n",
              "      <td>Told The book on Albanese s table The author w...</td>\n",
              "      <td>0.491667</td>\n",
              "      <td>0.179167</td>\n",
              "      <td>positive</td>\n",
              "    </tr>\n",
              "    <tr>\n",
              "      <th>993</th>\n",
              "      <td>2022-01-25</td>\n",
              "      <td>Kindergartener was looking at my lanyard w MJ ...</td>\n",
              "      <td>0.700000</td>\n",
              "      <td>0.800000</td>\n",
              "      <td>positive</td>\n",
              "    </tr>\n",
              "    <tr>\n",
              "      <th>994</th>\n",
              "      <td>2022-01-25</td>\n",
              "      <td>shoutout to curtin for teaching AP psych how t...</td>\n",
              "      <td>0.672222</td>\n",
              "      <td>0.450000</td>\n",
              "      <td>positive</td>\n",
              "    </tr>\n",
              "    <tr>\n",
              "      <th>997</th>\n",
              "      <td>2022-01-25</td>\n",
              "      <td>Curtin It s also important to remember anyone ...</td>\n",
              "      <td>0.866667</td>\n",
              "      <td>0.416667</td>\n",
              "      <td>positive</td>\n",
              "    </tr>\n",
              "  </tbody>\n",
              "</table>\n",
              "<p>447 rows × 5 columns</p>\n",
              "</div>\n",
              "      <button class=\"colab-df-convert\" onclick=\"convertToInteractive('df-0f4418c7-faa6-4200-8613-768344aa3e2a')\"\n",
              "              title=\"Convert this dataframe to an interactive table.\"\n",
              "              style=\"display:none;\">\n",
              "        \n",
              "  <svg xmlns=\"http://www.w3.org/2000/svg\" height=\"24px\"viewBox=\"0 0 24 24\"\n",
              "       width=\"24px\">\n",
              "    <path d=\"M0 0h24v24H0V0z\" fill=\"none\"/>\n",
              "    <path d=\"M18.56 5.44l.94 2.06.94-2.06 2.06-.94-2.06-.94-.94-2.06-.94 2.06-2.06.94zm-11 1L8.5 8.5l.94-2.06 2.06-.94-2.06-.94L8.5 2.5l-.94 2.06-2.06.94zm10 10l.94 2.06.94-2.06 2.06-.94-2.06-.94-.94-2.06-.94 2.06-2.06.94z\"/><path d=\"M17.41 7.96l-1.37-1.37c-.4-.4-.92-.59-1.43-.59-.52 0-1.04.2-1.43.59L10.3 9.45l-7.72 7.72c-.78.78-.78 2.05 0 2.83L4 21.41c.39.39.9.59 1.41.59.51 0 1.02-.2 1.41-.59l7.78-7.78 2.81-2.81c.8-.78.8-2.07 0-2.86zM5.41 20L4 18.59l7.72-7.72 1.47 1.35L5.41 20z\"/>\n",
              "  </svg>\n",
              "      </button>\n",
              "      \n",
              "  <style>\n",
              "    .colab-df-container {\n",
              "      display:flex;\n",
              "      flex-wrap:wrap;\n",
              "      gap: 12px;\n",
              "    }\n",
              "\n",
              "    .colab-df-convert {\n",
              "      background-color: #E8F0FE;\n",
              "      border: none;\n",
              "      border-radius: 50%;\n",
              "      cursor: pointer;\n",
              "      display: none;\n",
              "      fill: #1967D2;\n",
              "      height: 32px;\n",
              "      padding: 0 0 0 0;\n",
              "      width: 32px;\n",
              "    }\n",
              "\n",
              "    .colab-df-convert:hover {\n",
              "      background-color: #E2EBFA;\n",
              "      box-shadow: 0px 1px 2px rgba(60, 64, 67, 0.3), 0px 1px 3px 1px rgba(60, 64, 67, 0.15);\n",
              "      fill: #174EA6;\n",
              "    }\n",
              "\n",
              "    [theme=dark] .colab-df-convert {\n",
              "      background-color: #3B4455;\n",
              "      fill: #D2E3FC;\n",
              "    }\n",
              "\n",
              "    [theme=dark] .colab-df-convert:hover {\n",
              "      background-color: #434B5C;\n",
              "      box-shadow: 0px 1px 3px 1px rgba(0, 0, 0, 0.15);\n",
              "      filter: drop-shadow(0px 1px 2px rgba(0, 0, 0, 0.3));\n",
              "      fill: #FFFFFF;\n",
              "    }\n",
              "  </style>\n",
              "\n",
              "      <script>\n",
              "        const buttonEl =\n",
              "          document.querySelector('#df-0f4418c7-faa6-4200-8613-768344aa3e2a button.colab-df-convert');\n",
              "        buttonEl.style.display =\n",
              "          google.colab.kernel.accessAllowed ? 'block' : 'none';\n",
              "\n",
              "        async function convertToInteractive(key) {\n",
              "          const element = document.querySelector('#df-0f4418c7-faa6-4200-8613-768344aa3e2a');\n",
              "          const dataTable =\n",
              "            await google.colab.kernel.invokeFunction('convertToInteractive',\n",
              "                                                     [key], {});\n",
              "          if (!dataTable) return;\n",
              "\n",
              "          const docLinkHtml = 'Like what you see? Visit the ' +\n",
              "            '<a target=\"_blank\" href=https://colab.research.google.com/notebooks/data_table.ipynb>data table notebook</a>'\n",
              "            + ' to learn more about interactive tables.';\n",
              "          element.innerHTML = '';\n",
              "          dataTable['output_type'] = 'display_data';\n",
              "          await google.colab.output.renderOutput(dataTable, element);\n",
              "          const docLink = document.createElement('div');\n",
              "          docLink.innerHTML = docLinkHtml;\n",
              "          element.appendChild(docLink);\n",
              "        }\n",
              "      </script>\n",
              "    </div>\n",
              "  </div>\n",
              "  "
            ]
          },
          "metadata": {},
          "execution_count": 39
        }
      ]
    },
    {
      "cell_type": "markdown",
      "source": [
        "Write a function to calculate how many each day.  We will write a function because want to do this for negative and netural tweets."
      ],
      "metadata": {
        "id": "AL_2i4jB7cy-"
      }
    },
    {
      "cell_type": "code",
      "source": [
        "def num_tweets(df):\n",
        "    return df['Date'].value_counts().sort_index()\n",
        "\n",
        "pos_per_day = num_tweets(pos)\n",
        "pos_per_day"
      ],
      "metadata": {
        "id": "WK6y5w0w7Fu1",
        "colab": {
          "base_uri": "https://localhost:8080/"
        },
        "outputId": "466a3ecc-5ed6-4526-cc54-a28657e4ec63"
      },
      "execution_count": 40,
      "outputs": [
        {
          "output_type": "execute_result",
          "data": {
            "text/plain": [
              "2022-01-25     48\n",
              "2022-01-26     58\n",
              "2022-01-27    100\n",
              "2022-01-28    111\n",
              "2022-01-29     74\n",
              "2022-01-30     56\n",
              "Name: Date, dtype: int64"
            ]
          },
          "metadata": {},
          "execution_count": 40
        }
      ]
    },
    {
      "cell_type": "code",
      "source": [
        "# Plot the positive tweets per day\n",
        "pos_per_day.plot()"
      ],
      "metadata": {
        "id": "olPfp_uW9c7k",
        "colab": {
          "base_uri": "https://localhost:8080/",
          "height": 282
        },
        "outputId": "81aa2a0d-37f5-4837-cda6-491bc22a900d"
      },
      "execution_count": 41,
      "outputs": [
        {
          "output_type": "execute_result",
          "data": {
            "text/plain": [
              "<matplotlib.axes._subplots.AxesSubplot at 0x7fbdf7639c10>"
            ]
          },
          "metadata": {},
          "execution_count": 41
        },
        {
          "output_type": "display_data",
          "data": {
            "text/plain": [
              "<Figure size 432x288 with 1 Axes>"
            ],
            "image/png": "[encoded data removed]"
          },
          "metadata": {
            "needs_background": "light"
          }
        }
      ]
    },
    {
      "cell_type": "code",
      "source": [
        "# Now repeat for negative\n",
        "neg = tweets_df[ tweets_df['Sentiment'] == \"negative\"]\n",
        "neg_per_day = num_tweets(neg)\n",
        "neg_per_day.plot()"
      ],
      "metadata": {
        "id": "0iBemDHJ-gjO",
        "colab": {
          "base_uri": "https://localhost:8080/",
          "height": 282
        },
        "outputId": "6fc111a4-5d59-4f70-c740-b2b12c2ef14a"
      },
      "execution_count": 42,
      "outputs": [
        {
          "output_type": "execute_result",
          "data": {
            "text/plain": [
              "<matplotlib.axes._subplots.AxesSubplot at 0x7fbdf7447050>"
            ]
          },
          "metadata": {},
          "execution_count": 42
        },
        {
          "output_type": "display_data",
          "data": {
            "text/plain": [
              "<Figure size 432x288 with 1 Axes>"
            ],
            "image/png": "[encoded data removed]"
          },
          "metadata": {
            "needs_background": "light"
          }
        }
      ]
    },
    {
      "cell_type": "code",
      "source": [
        "# repeat for neutral\n",
        "neu = tweets_df[ tweets_df['Sentiment'] == \"neutral\"]\n",
        "neu_per_day = num_tweets(neu)\n",
        "neu_per_day.plot()"
      ],
      "metadata": {
        "id": "BfRQFkSa_j_c",
        "colab": {
          "base_uri": "https://localhost:8080/",
          "height": 282
        },
        "outputId": "2fa032e8-4a28-40ec-97e5-a725dc745591"
      },
      "execution_count": 44,
      "outputs": [
        {
          "output_type": "execute_result",
          "data": {
            "text/plain": [
              "<matplotlib.axes._subplots.AxesSubplot at 0x7fbdf7484190>"
            ]
          },
          "metadata": {},
          "execution_count": 44
        },
        {
          "output_type": "display_data",
          "data": {
            "text/plain": [
              "<Figure size 432x288 with 1 Axes>"
            ],
            "image/png": "[encoded data removed]"
          },
          "metadata": {
            "needs_background": "light"
          }
        }
      ]
    },
    {
      "cell_type": "code",
      "source": [
        "def plot_polarity(df,what) :\n",
        " tweets = df[ df[ 'Sentiment' ] == what]\n",
        " tweets_per_day = num_tweets(tweets)\n",
        " tweets_per_day.plot()"
      ],
      "metadata": {
        "id": "azPcajyqJybT"
      },
      "execution_count": 57,
      "outputs": []
    },
    {
      "cell_type": "code",
      "source": [
        "plot_polarity(tweets_df, 'positive')"
      ],
      "metadata": {
        "colab": {
          "base_uri": "https://localhost:8080/",
          "height": 265
        },
        "id": "eBa82IFTLIih",
        "outputId": "b75a4976-e0db-41e7-b28b-8c32506652cd"
      },
      "execution_count": 58,
      "outputs": [
        {
          "output_type": "display_data",
          "data": {
            "text/plain": [
              "<Figure size 432x288 with 1 Axes>"
            ],
            "image/png": "[encoded data removed]"
          },
          "metadata": {
            "needs_background": "light"
          }
        }
      ]
    },
    {
      "cell_type": "markdown",
      "source": [
        "How about propotions of sentiment type?\n",
        "\n",
        "Visit Python Graph Gallery, 'Part of the Whole', select 'Pie' and loot at the example"
      ],
      "metadata": {
        "id": "4bztLqHFCWTM"
      }
    },
    {
      "cell_type": "code",
      "source": [
        "import matplotlib.pyplot as plt\n",
        "\n",
        "# create data: an array of values\n",
        "size_of_groups=[12,11,3,30]\n",
        "\n",
        "# Create a pieplot\n",
        "plt.pie(size_of_groups)\n",
        "plt.show()\n"
      ],
      "metadata": {
        "id": "51tsIf80F3JG",
        "colab": {
          "base_uri": "https://localhost:8080/",
          "height": 248
        },
        "outputId": "3c7736d5-e719-4bb8-abcf-5fc49b5d0ed1"
      },
      "execution_count": 60,
      "outputs": [
        {
          "output_type": "display_data",
          "data": {
            "text/plain": [
              "<Figure size 432x288 with 1 Axes>"
            ],
            "image/png": "[encoded data removed]"
          },
          "metadata": {}
        }
      ]
    },
    {
      "cell_type": "code",
      "source": [
        "import matplotlib.pyplot as plt\n",
        "values = [len(pos),len(neg),len(neu)]\n",
        "plt.pie(values)"
      ],
      "metadata": {
        "colab": {
          "base_uri": "https://localhost:8080/",
          "height": 352
        },
        "id": "JVxeYOp0L_tJ",
        "outputId": "ce669177-b037-4664-8323-41c2a649fc6c"
      },
      "execution_count": 61,
      "outputs": [
        {
          "output_type": "execute_result",
          "data": {
            "text/plain": [
              "([<matplotlib.patches.Wedge at 0x7fbdf73a4410>,\n",
              "  <matplotlib.patches.Wedge at 0x7fbdf72e2290>,\n",
              "  <matplotlib.patches.Wedge at 0x7fbdf6e175d0>],\n",
              " [Text(0.1823097456737024, 1.0847871480767046, ''),\n",
              "  Text(-1.0990827482645733, -0.04491227523954872, ''),\n",
              "  Text(0.22644881804572126, -1.0764390056132749, '')])"
            ]
          },
          "metadata": {},
          "execution_count": 61
        },
        {
          "output_type": "display_data",
          "data": {
            "text/plain": [
              "<Figure size 432x288 with 1 Axes>"
            ],
            "image/png": "[encoded data removed]"
          },
          "metadata": {}
        }
      ]
    },
    {
      "cell_type": "markdown",
      "source": [
        "We can do better. "
      ],
      "metadata": {
        "id": "tcG6FBvfGTLR"
      }
    },
    {
      "cell_type": "code",
      "source": [
        "import matplotlib.pyplot as plt\n",
        " \n",
        "values = [len(pos),len(neg),len(neu)]\n",
        "labels = ['Positive','Negative','Neutral']\n",
        "colors = ['b','r','g']\n",
        "plt.pie(values, colors=colors, labels= values)\n",
        "plt.title('Sentiment Portions')\n",
        "plt.legend(labels,loc=3)\n",
        "plt.show()"
      ],
      "metadata": {
        "id": "ikSynD1LBiNC",
        "colab": {
          "base_uri": "https://localhost:8080/",
          "height": 264
        },
        "outputId": "2c213f20-e819-427e-931e-ef15b3511cc9"
      },
      "execution_count": 62,
      "outputs": [
        {
          "output_type": "display_data",
          "data": {
            "text/plain": [
              "<Figure size 432x288 with 1 Axes>"
            ],
            "image/png": "[encoded data removed]"
          },
          "metadata": {}
        }
      ]
    },
    {
      "cell_type": "markdown",
      "source": [
        "## WordCloud\n",
        "\n",
        "Visit Python Graph Gallery, 'Ranking', select 'Word Cloud' and loot at the example"
      ],
      "metadata": {
        "id": "hieSQIkEKHGG"
      }
    },
    {
      "cell_type": "code",
      "source": [
        "# Libraries\n",
        "from wordcloud import WordCloud\n",
        "import matplotlib.pyplot as plt\n",
        "from stopwords import ENGLISH_STOP_WORDS\n",
        "\n",
        "# Get all the messages\n",
        "messages = ' '.join(tweets_df['Clean Text'])\n",
        "\n",
        "stop_words = ENGLISH_STOP_WORDS.add(search_term)    \n",
        "# Create the wordcloud object\n",
        "wordcloud = WordCloud(width=680, height=480, margin=0, \n",
        "                      stopwords=ENGLISH_STOP_WORDS).generate(messages)\n",
        "\n",
        "# Display the generated image:\n",
        "plt.imshow(wordcloud, interpolation='bilinear')\n",
        "plt.axis(\"off\")\n",
        "plt.margins(x=0, y=0)\n",
        "plt.show()"
      ],
      "metadata": {
        "id": "d3kZ8i4hH_IQ",
        "colab": {
          "base_uri": "https://localhost:8080/",
          "height": 248
        },
        "outputId": "e5c2e68e-2e51-483d-96b7-8a3cda84cfff"
      },
      "execution_count": 63,
      "outputs": [
        {
          "output_type": "display_data",
          "data": {
            "text/plain": [
              "<Figure size 432x288 with 1 Axes>"
            ],
            "image/png": "[encoded data removed]"
          },
          "metadata": {
            "needs_background": "light"
          }
        }
      ]
    }
  ]
}