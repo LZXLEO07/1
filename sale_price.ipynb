{
  "nbformat": 4,
  "nbformat_minor": 0,
  "metadata": {
    "colab": {
      "name": "sale_price.ipynb",
      "provenance": [],
      "include_colab_link": true
    },
    "kernelspec": {
      "name": "python3",
      "display_name": "Python 3"
    },
    "language_info": {
      "name": "python"
    }
  },
  "cells": [
    {
      "cell_type": "markdown",
      "metadata": {
        "id": "view-in-github",
        "colab_type": "text"
      },
      "source": [
        "<a href=\"https://colab.research.google.com/github/LZXLEO07/1/blob/main/sale_price.ipynb\" target=\"_parent\"><img src=\"https://colab.research.google.com/assets/colab-badge.svg\" alt=\"Open In Colab\"/></a>"
      ]
    },
    {
      "cell_type": "markdown",
      "metadata": {
        "id": "cgTeiXOtSPjH"
      },
      "source": [
        "# Sales Price\n",
        "\n",
        "A local department store needs to develop a program that will computer the total price (including goods and services tax) of the item on sale when given an item's original price and discount percentage.\n",
        "\n",
        "## Tasks\n",
        "* Save to Github\n",
        "* Design Algorithm\n",
        "* Write and test the program in Python"
      ]
    },
    {
      "cell_type": "code",
      "metadata": {
        "id": "pPIN2ZcrSqdw",
        "colab": {
          "base_uri": "https://localhost:8080/"
        },
        "outputId": "ce190591-91cf-443a-b41a-841b46473a57"
      },
      "source": [
        "Price=float(input(\"Enter the Price\"))\n",
        "Discount=float(input(\"Enter the Discount\"))\n",
        "FinalPrice=Price*Discount\n",
        "print(FinalPrice)"
      ],
      "execution_count": null,
      "outputs": [
        {
          "output_type": "stream",
          "name": "stdout",
          "text": [
            "Enter the Price340\n",
            "Enter the Discount0.75\n",
            "255.0\n"
          ]
        }
      ]
    }
  ]
}